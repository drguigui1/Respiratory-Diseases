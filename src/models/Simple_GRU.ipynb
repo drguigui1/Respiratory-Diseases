{
 "cells": [
  {
   "cell_type": "code",
   "execution_count": 46,
   "metadata": {
    "colab": {
     "base_uri": "https://localhost:8080/",
     "height": 34
    },
    "colab_type": "code",
    "id": "zyUTeZVtDqFU",
    "outputId": "3d6f6aa5-315a-49d2-9dc7-e33bdac00a38"
   },
   "outputs": [
    {
     "name": "stdout",
     "output_type": "stream",
     "text": [
      "Drive already mounted at /content/drive; to attempt to forcibly remount, call drive.mount(\"/content/drive\", force_remount=True).\n"
     ]
    }
   ],
   "source": [
    "from google.colab import drive\n",
    "drive.mount('/content/drive')"
   ]
  },
  {
   "cell_type": "code",
   "execution_count": 0,
   "metadata": {
    "colab": {},
    "colab_type": "code",
    "id": "AxRxWxi4Fc9z"
   },
   "outputs": [],
   "source": [
    "import pandas as pd\n",
    "import numpy as np\n",
    "import matplotlib.pyplot as plt\n",
    "import math\n",
    "\n",
    "from tensorflow.keras.models import Sequential\n",
    "from tensorflow.keras.layers import LSTM, Dense, Dropout, BatchNormalization, GRU\n",
    "from tensorflow.keras.utils import Sequence\n",
    "from tensorflow.keras.optimizers import Adam, Adagrad, RMSprop\n",
    "\n",
    "from sklearn.utils import class_weight"
   ]
  },
  {
   "cell_type": "code",
   "execution_count": 0,
   "metadata": {
    "colab": {},
    "colab_type": "code",
    "id": "TE8bSOhTF4FB"
   },
   "outputs": [],
   "source": [
    "train_data_path='/content/drive/My Drive/respiratory-dataset/train/data'\n",
    "train_labels_path='/content/drive/My Drive/respiratory-dataset/train/labels'\n",
    "test_data_path='/content/drive/My Drive/respiratory-dataset/test/data'\n",
    "test_labels_path='/content/drive/My Drive/respiratory-dataset/test/labels'"
   ]
  },
  {
   "cell_type": "code",
   "execution_count": 0,
   "metadata": {
    "colab": {},
    "colab_type": "code",
    "id": "gF9puXVGG7Ut"
   },
   "outputs": [],
   "source": [
    "def get_data(path):\n",
    "  print(path)\n",
    "  f = open(path, \"r\")\n",
    "  X = []\n",
    "  l = f.readlines()\n",
    "  n_mfcc = 30\n",
    "  for idx, elm in enumerate(l):\n",
    "    elm = elm.split('\\n')[0]\n",
    "    vec_str = elm.split(',')\n",
    "\n",
    "    m = len(vec_str)\n",
    "    vec = np.zeros(m)\n",
    "    for i in range(m):\n",
    "      vec[i] = float(vec_str[i])\n",
    "    X.append(np.reshape(vec, (int(m / n_mfcc), n_mfcc)))\n",
    "    if (idx % 100 == 0):\n",
    "      print(\"Data nb {}\".format(idx))\n",
    "  f.close()\n",
    "  return X\n",
    "\n",
    "def get_labels(path):\n",
    "  print(path)\n",
    "  f = open(path, \"r\")\n",
    "  s = f.read()\n",
    "  s = s.split('\\n')[0]\n",
    "  labels_str = s.split(',')\n",
    "  y = np.zeros(len(labels_str))\n",
    "  for idx, lab in enumerate(labels_str):\n",
    "    y[idx] = float(lab)\n",
    "    if (idx % 100 == 0):\n",
    "      print(\"Label nb {}\".format(idx))\n",
    "  return y"
   ]
  },
  {
   "cell_type": "code",
   "execution_count": 50,
   "metadata": {
    "colab": {
     "base_uri": "https://localhost:8080/",
     "height": 885
    },
    "colab_type": "code",
    "id": "BL3OOJPP1CXS",
    "outputId": "aba9781c-bf56-4590-f616-7580ed2296b1"
   },
   "outputs": [
    {
     "name": "stdout",
     "output_type": "stream",
     "text": [
      "/content/drive/My Drive/respiratory-dataset/train/data\n",
      "Data nb 0\n",
      "Data nb 100\n",
      "Data nb 200\n",
      "Data nb 300\n",
      "Data nb 400\n",
      "Data nb 500\n",
      "Data nb 600\n",
      "Data nb 700\n",
      "Data nb 800\n",
      "Data nb 900\n",
      "Data nb 1000\n",
      "Data nb 1100\n",
      "Data nb 1200\n",
      "Data nb 1300\n",
      "Data nb 1400\n",
      "Data nb 1500\n",
      "Data nb 1600\n",
      "Data nb 1700\n",
      "Data nb 1800\n",
      "Data nb 1900\n",
      "Data nb 2000\n",
      "Data nb 2100\n",
      "/content/drive/My Drive/respiratory-dataset/train/labels\n",
      "Label nb 0\n",
      "Label nb 100\n",
      "Label nb 200\n",
      "Label nb 300\n",
      "Label nb 400\n",
      "Label nb 500\n",
      "Label nb 600\n",
      "Label nb 700\n",
      "Label nb 800\n",
      "Label nb 900\n",
      "Label nb 1000\n",
      "Label nb 1100\n",
      "Label nb 1200\n",
      "Label nb 1300\n",
      "Label nb 1400\n",
      "Label nb 1500\n",
      "Label nb 1600\n",
      "Label nb 1700\n",
      "Label nb 1800\n",
      "Label nb 1900\n",
      "Label nb 2000\n",
      "Label nb 2100\n",
      "/content/drive/My Drive/respiratory-dataset/test/data\n",
      "Data nb 0\n",
      "/content/drive/My Drive/respiratory-dataset/test/labels\n",
      "Label nb 0\n"
     ]
    }
   ],
   "source": [
    "X_train = get_data(train_data_path)\n",
    "y_train = get_labels(train_labels_path)\n",
    "X_test = get_data(test_data_path)\n",
    "y_test = get_labels(test_labels_path)"
   ]
  },
  {
   "cell_type": "code",
   "execution_count": 0,
   "metadata": {
    "colab": {},
    "colab_type": "code",
    "id": "m1SLryDJ9FgO"
   },
   "outputs": [],
   "source": [
    "def plot_histogram(y_train):\n",
    "  '''\n",
    "  Plot the histogram of the data\n",
    "  '''\n",
    "  labels = ['URTI', 'Healthy', 'COPD', 'Pneumonia']\n",
    "  _, y = np.unique(y_train, return_counts=True)\n",
    "  x = np.arange(len(labels))  # the label locations\n",
    "  width = 0.6  # the width of the bars\n",
    "  \n",
    "  fig, ax = plt.subplots(figsize=(12,7))\n",
    "  ax.bar(x, y, width, color='royalblue', alpha=0.7)\n",
    "  \n",
    "  # Add some text for labels, title and custom x-axis tick labels, etc.\n",
    "  ax.set_ylabel('Nbr data')\n",
    "  ax.set_title('Class dataset repartition')\n",
    "  ax.set_xticks(x)\n",
    "  ax.set_xticklabels(labels)\n",
    "  fig.tight_layout()\n",
    "  plt.show()"
   ]
  },
  {
   "cell_type": "code",
   "execution_count": 52,
   "metadata": {
    "colab": {
     "base_uri": "https://localhost:8080/",
     "height": 513
    },
    "colab_type": "code",
    "id": "6U9Z_A7pFRFM",
    "outputId": "6bf0714a-c66a-4966-e034-ec95bbec74ad"
   },
   "outputs": [
    {
     "data": {
      "image/png": "[encoded data removed]",
      "text/plain": [
       "<Figure size 864x504 with 1 Axes>"
      ]
     },
     "metadata": {
      "needs_background": "light",
      "tags": []
     },
     "output_type": "display_data"
    }
   ],
   "source": [
    "plot_histogram(y_train)"
   ]
  },
  {
   "cell_type": "code",
   "execution_count": 0,
   "metadata": {
    "colab": {},
    "colab_type": "code",
    "id": "ZCFUIZzVgscv"
   },
   "outputs": [],
   "source": [
    "## padding data with 0\n",
    "## then we wil use masking\n",
    "## !!! not enough memory to padd\n",
    "def padd_data(X, max_len, value):\n",
    "  '''\n",
    "  padd all the data with value until max_len\n",
    "  '''\n",
    "  n_mfcc = X[0].shape[-1]\n",
    "\n",
    "  for idx, elm in enumerate(X):\n",
    "    filled = np.full((max_len - elm.shape[0], n_mfcc), fill_value=value)\n",
    "    X[idx] = np.concatenate((elm, filled))\n",
    "  return np.array(X)"
   ]
  },
  {
   "cell_type": "code",
   "execution_count": 0,
   "metadata": {
    "colab": {},
    "colab_type": "code",
    "id": "k_V_NcrK4qeD"
   },
   "outputs": [],
   "source": [
    "class DataGenerator(Sequence):\n",
    "  def __init__(self, X, y, batch_size):\n",
    "    self.X = X\n",
    "    self.y = y\n",
    "    self.batch_size = batch_size\n",
    "\n",
    "  # nbr of batch in the sequence\n",
    "  def __len__(self):\n",
    "    return math.ceil((len(self.y) / self.batch_size))\n",
    "\n",
    "  # get batch at the position index\n",
    "  def __getitem__(self, idx):\n",
    "    x_data = np.empty((self.batch_size, self.X[idx].shape[0], self.X[idx].shape[1]))\n",
    "    y_data = np.array((self.batch_size, *self.y[idx].shape))\n",
    "    x_data[0] = self.X[idx]\n",
    "    y_data[0] = self.y[idx]\n",
    "    return x_data, y_data"
   ]
  },
  {
   "cell_type": "code",
   "execution_count": 55,
   "metadata": {
    "colab": {
     "base_uri": "https://localhost:8080/",
     "height": 260
    },
    "colab_type": "code",
    "id": "TiXOi0Ly1K54",
    "outputId": "82621840-eb83-41a2-8194-5b993c39f08a"
   },
   "outputs": [
    {
     "name": "stdout",
     "output_type": "stream",
     "text": [
      "Model: \"sequential_2\"\n",
      "_________________________________________________________________\n",
      "Layer (type)                 Output Shape              Param #   \n",
      "=================================================================\n",
      "input_gru (GRU)              (None, None, 20)          3120      \n",
      "_________________________________________________________________\n",
      "hidden_gru (GRU)             (None, 20)                2520      \n",
      "_________________________________________________________________\n",
      "output_dense (Dense)         (None, 4)                 84        \n",
      "=================================================================\n",
      "Total params: 5,724\n",
      "Trainable params: 5,724\n",
      "Non-trainable params: 0\n",
      "_________________________________________________________________\n"
     ]
    }
   ],
   "source": [
    "## build model\n",
    "\n",
    "model = Sequential()\n",
    "\n",
    "model.add(GRU(20, return_sequences=True, input_shape=(None, 30), name='input_gru'))\n",
    "model.add(GRU(20, return_sequences=False, name='hidden_gru'))\n",
    "model.add(Dense(4, activation='softmax', name='output_dense'))\n",
    "\n",
    "model.summary()"
   ]
  },
  {
   "cell_type": "code",
   "execution_count": 0,
   "metadata": {
    "colab": {},
    "colab_type": "code",
    "id": "1VJCjSit3eaP"
   },
   "outputs": [],
   "source": [
    "# compile model\n",
    "rmsprop = RMSprop(learning_rate=0.001)\n",
    "#adam = Adam(learning_rate=0.005)\n",
    "model.compile(optimizer=rmsprop, loss='sparse_categorical_crossentropy', metrics=['accuracy'])"
   ]
  },
  {
   "cell_type": "code",
   "execution_count": 0,
   "metadata": {
    "colab": {},
    "colab_type": "code",
    "id": "zDqeoCZHhvMv"
   },
   "outputs": [],
   "source": [
    "train_generator = DataGenerator(X_train, y_train, 1)\n",
    "validation_generator = DataGenerator(X_test, y_test, 1)"
   ]
  },
  {
   "cell_type": "code",
   "execution_count": 0,
   "metadata": {
    "colab": {},
    "colab_type": "code",
    "id": "x3Rw7AJNfUJj"
   },
   "outputs": [],
   "source": [
    "def create_class_weight(y_train):\n",
    "  '''\n",
    "  Create the class weight dictionnary\n",
    "  '''\n",
    "  class_weights = class_weight.compute_class_weight('balanced', np.unique(y_train), y_train)\n",
    "  dic = {}\n",
    "\n",
    "  for key, value in enumerate(class_weights):\n",
    "    dic[key] = value\n",
    "\n",
    "  return dic"
   ]
  },
  {
   "cell_type": "code",
   "execution_count": 59,
   "metadata": {
    "colab": {
     "base_uri": "https://localhost:8080/",
     "height": 34
    },
    "colab_type": "code",
    "id": "Uk3XpRWpfqEz",
    "outputId": "c1b0f5b3-b955-427e-b7da-75f7203f6f24"
   },
   "outputs": [
    {
     "data": {
      "text/plain": [
       "{0: 1.66640625, 1: 1.0665, 2: 0.6898447606727037, 3: 0.9875}"
      ]
     },
     "execution_count": 59,
     "metadata": {
      "tags": []
     },
     "output_type": "execute_result"
    }
   ],
   "source": [
    "class_weights = create_class_weight(y_train)\n",
    "class_weights"
   ]
  },
  {
   "cell_type": "code",
   "execution_count": 68,
   "metadata": {
    "colab": {
     "base_uri": "https://localhost:8080/",
     "height": 191
    },
    "colab_type": "code",
    "id": "NusX7A435SCV",
    "outputId": "1aeac40e-96ef-40d8-99d3-2b949ebec2aa"
   },
   "outputs": [
    {
     "name": "stdout",
     "output_type": "stream",
     "text": [
      "Epoch 1/5\n",
      "2133/2133 [==============================] - 1209s 567ms/step - loss: 0.4755 - accuracy: 0.8167 - val_loss: 1.1460 - val_accuracy: 0.6383\n",
      "Epoch 2/5\n",
      "2133/2133 [==============================] - 1199s 562ms/step - loss: 0.4251 - accuracy: 0.8509 - val_loss: 1.3141 - val_accuracy: 0.5745\n",
      "Epoch 3/5\n",
      "2133/2133 [==============================] - 1177s 552ms/step - loss: 0.3796 - accuracy: 0.8748 - val_loss: 1.3087 - val_accuracy: 0.6596\n",
      "Epoch 4/5\n",
      "2133/2133 [==============================] - 1188s 557ms/step - loss: 0.3319 - accuracy: 0.9020 - val_loss: 1.3457 - val_accuracy: 0.6383\n",
      "Epoch 5/5\n",
      "2133/2133 [==============================] - 1185s 556ms/step - loss: 0.3429 - accuracy: 0.8964 - val_loss: 1.6386 - val_accuracy: 0.6809\n"
     ]
    }
   ],
   "source": [
    "# fit our model\n",
    "#history = model.fit_generator(generator=train_generator, validation_data=validation_generator, class_weight=class_weights, epochs=5, verbose=1)\n",
    "history = model.fit_generator(generator=train_generator, validation_data=validation_generator, epochs=5, verbose=1)"
   ]
  },
  {
   "cell_type": "code",
   "execution_count": 71,
   "metadata": {
    "colab": {
     "base_uri": "https://localhost:8080/",
     "height": 573
    },
    "colab_type": "code",
    "id": "oO4x8YxqskOv",
    "outputId": "5944898b-d7ed-46b8-baae-3cb25dd4adb3"
   },
   "outputs": [
    {
     "data": {
      "image/png": "[encoded data removed]",
      "text/plain": [
       "<Figure size 432x288 with 1 Axes>"
      ]
     },
     "metadata": {
      "needs_background": "light",
      "tags": []
     },
     "output_type": "display_data"
    },
    {
     "data": {
      "image/png": "[encoded data removed]",
      "text/plain": [
       "<Figure size 432x288 with 1 Axes>"
      ]
     },
     "metadata": {
      "needs_background": "light",
      "tags": []
     },
     "output_type": "display_data"
    }
   ],
   "source": [
    "# Plot training & validation accuracy values\n",
    "plt.plot(history.history['accuracy'])\n",
    "plt.plot(history.history['val_accuracy'])\n",
    "plt.title('Model accuracy')\n",
    "plt.ylabel('Accuracy')\n",
    "plt.xlabel('Epoch')\n",
    "plt.ylim(0, 1)\n",
    "plt.legend(['Train', 'Test'], loc='upper left')\n",
    "plt.show()\n",
    "\n",
    "# Plot training & validation loss values\n",
    "plt.plot(history.history['loss'])\n",
    "plt.plot(history.history['val_loss'])\n",
    "plt.title('Model loss')\n",
    "plt.ylabel('Loss')\n",
    "plt.xlabel('Epoch')\n",
    "plt.ylim(0, 3)\n",
    "plt.legend(['Train', 'Test'], loc='upper left')\n",
    "plt.show()"
   ]
  },
  {
   "cell_type": "code",
   "execution_count": 0,
   "metadata": {
    "colab": {},
    "colab_type": "code",
    "id": "HHZ9bs0u5e_8"
   },
   "outputs": [],
   "source": [
    "## compute accupacy for each class\n",
    "def compute_accuracy_class(class_generator):\n",
    "  '''\n",
    "  Compute accuracy of a class data generator\n",
    "  return:\n",
    "  acc_class -> array of accuracy per class\n",
    "  acc -> total accuracy\n",
    "  '''\n",
    "  pred = model.predict_generator(generator=validation_generator)\n",
    "  acc_class, nb_class = np.zeros(4), np.zeros(4)\n",
    "  acc, n = 0, 0\n",
    "\n",
    "  for idx, elm in enumerate(pred):\n",
    "    label_pred = np.argmax(elm)\n",
    "    label_true = int(validation_generator.y[idx])\n",
    "    nb_class[label_true] += 1\n",
    "    if (label_pred == label_true):\n",
    "      acc += 1\n",
    "      acc_class[label_true] += 1\n",
    "    n += 1\n",
    "  return acc_class / nb_class, acc / n"
   ]
  },
  {
   "cell_type": "code",
   "execution_count": 0,
   "metadata": {
    "colab": {},
    "colab_type": "code",
    "id": "YWAIBvyc1F8W"
   },
   "outputs": [],
   "source": [
    "acc_class, acc = compute_accuracy_class(validation_generator)"
   ]
  },
  {
   "cell_type": "code",
   "execution_count": 74,
   "metadata": {
    "colab": {
     "base_uri": "https://localhost:8080/",
     "height": 52
    },
    "colab_type": "code",
    "id": "zOlfRLBE1kEd",
    "outputId": "dec30898-5d2c-4df8-894b-6dbfc5954e9c"
   },
   "outputs": [
    {
     "name": "stdout",
     "output_type": "stream",
     "text": [
      "Total Accuracy 0.6808510638297872\n",
      "Classes Accuracy [0.57142857 0.2        0.85       0.9       ]\n"
     ]
    }
   ],
   "source": [
    "print(\"Total Accuracy {}\".format(acc))\n",
    "print(\"Classes Accuracy {}\".format(acc_class))"
   ]
  },
  {
   "cell_type": "code",
   "execution_count": 0,
   "metadata": {
    "colab": {},
    "colab_type": "code",
    "id": "i-GjFt0a1lbj"
   },
   "outputs": [],
   "source": []
  }
 ],
 "metadata": {
  "colab": {
   "machine_shape": "hm",
   "name": "Simple_GRU",
   "provenance": []
  },
  "kernelspec": {
   "display_name": "Python 3",
   "language": "python",
   "name": "python3"
  },
  "language_info": {
   "codemirror_mode": {
    "name": "ipython",
    "version": 3
   },
   "file_extension": ".py",
   "mimetype": "text/x-python",
   "name": "python",
   "nbconvert_exporter": "python",
   "pygments_lexer": "ipython3",
   "version": "3.8.2"
  }
 },
 "nbformat": 4,
 "nbformat_minor": 1
}
