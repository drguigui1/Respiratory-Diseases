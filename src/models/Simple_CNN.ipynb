{
  "nbformat": 4,
  "nbformat_minor": 0,
  "metadata": {
    "colab": {
      "name": "Simple_CNN",
      "provenance": [],
      "machine_shape": "hm"
    },
    "kernelspec": {
      "name": "python3",
      "display_name": "Python 3"
    }
  },
  "cells": [
    {
      "cell_type": "code",
      "metadata": {
        "id": "YU24jJJwZ1Ow",
        "colab_type": "code",
        "colab": {}
      },
      "source": [
        "from google.colab import drive\n",
        "drive.mount('/content/drive')"
      ],
      "execution_count": 0,
      "outputs": []
    },
    {
      "cell_type": "code",
      "metadata": {
        "id": "ZSkZvr-fa1z4",
        "colab_type": "code",
        "colab": {}
      },
      "source": [
        "import pandas as pd\n",
        "import numpy as np\n",
        "import matplotlib.pyplot as plt\n",
        "import math\n",
        "import cv2\n",
        "\n",
        "from tensorflow.keras.models import Sequential, Model\n",
        "from tensorflow.keras.layers import Dense, Dropout, BatchNormalization, Input, Conv2D, MaxPool2D, Reshape, Flatten, UpSampling2D, LSTM, GRU\n",
        "from tensorflow.keras.utils import Sequence\n",
        "from tensorflow.keras.optimizers import Adam, Adagrad, RMSprop\n",
        "import tensorflow.keras.backend as K"
      ],
      "execution_count": 0,
      "outputs": []
    },
    {
      "cell_type": "code",
      "metadata": {
        "id": "fDn-YibeZ8ib",
        "colab_type": "code",
        "colab": {}
      },
      "source": [
        "train_data_path='/content/drive/My Drive/respiratory-dataset/train/data'\n",
        "train_labels_path='/content/drive/My Drive/respiratory-dataset/train/labels'\n",
        "test_data_path='/content/drive/My Drive/respiratory-dataset/test/data'\n",
        "test_labels_path='/content/drive/My Drive/respiratory-dataset/test/labels'"
      ],
      "execution_count": 0,
      "outputs": []
    },
    {
      "cell_type": "code",
      "metadata": {
        "id": "boKS9Ei0axUH",
        "colab_type": "code",
        "colab": {}
      },
      "source": [
        "def get_data(path):\n",
        "  print(path)\n",
        "  f = open(path, \"r\")\n",
        "  l = f.readlines()\n",
        "  n_mfcc = 30\n",
        "  nb_cols = 28\n",
        "  nb_rows = 860 ## most common audio length\n",
        "  X = np.zeros((len(l), nb_rows, nb_cols))\n",
        "  for idx, elm in enumerate(l):\n",
        "    elm = elm.split('\\n')[0]\n",
        "    vec_str = elm.split(',')\n",
        "\n",
        "    m = len(vec_str)\n",
        "    vec = np.zeros(m)\n",
        "    for i in range(m):\n",
        "      vec[i] = float(vec_str[i])\n",
        "    tmp = np.reshape(vec, (int(m / n_mfcc), n_mfcc))\n",
        "    X[idx] = cv2.resize(tmp, (nb_cols, nb_rows), interpolation=cv2.INTER_AREA)\n",
        "    if (idx % 100 == 0):\n",
        "      print(\"Data nb {}\".format(idx))\n",
        "  f.close()\n",
        "  return X\n",
        "\n",
        "def get_labels(path):\n",
        "  print(path)\n",
        "  f = open(path, \"r\")\n",
        "  s = f.read()\n",
        "  s = s.split('\\n')[0]\n",
        "  labels_str = s.split(',')\n",
        "  y = np.zeros(len(labels_str))\n",
        "  for idx, lab in enumerate(labels_str):\n",
        "    y[idx] = float(lab)\n",
        "    if (idx % 100 == 0):\n",
        "      print(\"Label nb {}\".format(idx))\n",
        "  return y"
      ],
      "execution_count": 0,
      "outputs": []
    },
    {
      "cell_type": "code",
      "metadata": {
        "id": "7MbO7uCdbDoQ",
        "colab_type": "code",
        "colab": {}
      },
      "source": [
        "X_train = get_data(train_data_path)\n",
        "y_train = get_labels(train_labels_path)\n",
        "X_test = get_data(test_data_path)\n",
        "y_test = get_labels(test_labels_path)"
      ],
      "execution_count": 0,
      "outputs": []
    },
    {
      "cell_type": "code",
      "metadata": {
        "id": "rq2EwZlJYR4G",
        "colab_type": "code",
        "outputId": "50bbdde9-9961-458d-d9e9-e00d76283bba",
        "colab": {
          "base_uri": "https://localhost:8080/",
          "height": 86
        }
      },
      "source": [
        "X_train = np.reshape(X_train, (X_train.shape[0], X_train.shape[1], X_train.shape[2], 1))\n",
        "X_test = np.reshape(X_test, (X_test.shape[0], X_test.shape[1], X_test.shape[2], 1))\n",
        "print(\"Training data shape {}\".format(X_train.shape))\n",
        "print(\"Training label shape {}\".format(y_train.shape))\n",
        "print(\"Testing data shape {}\".format(X_train.shape))\n",
        "print(\"Testing label shape {}\".format(y_test.shape))"
      ],
      "execution_count": 8,
      "outputs": [
        {
          "output_type": "stream",
          "text": [
            "Training data shape (2133, 860, 28, 1)\n",
            "Training label shape (2133,)\n",
            "Testing data shape (2133, 860, 28, 1)\n",
            "Testing label shape (47,)\n"
          ],
          "name": "stdout"
        }
      ]
    },
    {
      "cell_type": "code",
      "metadata": {
        "id": "TScvpl6AfuY8",
        "colab_type": "code",
        "outputId": "db73e90c-c633-42a7-84c8-0ba8dbce823d",
        "colab": {
          "base_uri": "https://localhost:8080/",
          "height": 469
        }
      },
      "source": [
        "### CNN model\n",
        "in_shape = (860, 28, 1)\n",
        "inpt = Input(shape=in_shape)\n",
        "\n",
        "cnn = Conv2D(32, (3, 3), activation='relu') (inpt)\n",
        "cnn = BatchNormalization() (cnn)\n",
        "cnn = MaxPool2D((2, 2)) (cnn)\n",
        "\n",
        "cnn = Conv2D(64, (3, 3), activation='relu') (cnn)\n",
        "cnn = BatchNormalization() (cnn)\n",
        "cnn = MaxPool2D((2, 2)) (cnn)\n",
        "\n",
        "out = Flatten() (cnn)\n",
        "out = Dense(4, activation='softmax') (out)\n",
        "model = Model(inpt, out)\n",
        "model.summary()"
      ],
      "execution_count": 46,
      "outputs": [
        {
          "output_type": "stream",
          "text": [
            "Model: \"model_10\"\n",
            "_________________________________________________________________\n",
            "Layer (type)                 Output Shape              Param #   \n",
            "=================================================================\n",
            "input_12 (InputLayer)        [(None, 860, 28, 1)]      0         \n",
            "_________________________________________________________________\n",
            "conv2d_20 (Conv2D)           (None, 858, 26, 32)       320       \n",
            "_________________________________________________________________\n",
            "batch_normalization_23 (Batc (None, 858, 26, 32)       128       \n",
            "_________________________________________________________________\n",
            "max_pooling2d_20 (MaxPooling (None, 429, 13, 32)       0         \n",
            "_________________________________________________________________\n",
            "conv2d_21 (Conv2D)           (None, 427, 11, 64)       18496     \n",
            "_________________________________________________________________\n",
            "batch_normalization_24 (Batc (None, 427, 11, 64)       256       \n",
            "_________________________________________________________________\n",
            "max_pooling2d_21 (MaxPooling (None, 213, 5, 64)        0         \n",
            "_________________________________________________________________\n",
            "flatten_11 (Flatten)         (None, 68160)             0         \n",
            "_________________________________________________________________\n",
            "dense_21 (Dense)             (None, 4)                 272644    \n",
            "=================================================================\n",
            "Total params: 291,844\n",
            "Trainable params: 291,652\n",
            "Non-trainable params: 192\n",
            "_________________________________________________________________\n"
          ],
          "name": "stdout"
        }
      ]
    },
    {
      "cell_type": "code",
      "metadata": {
        "id": "b9CoxHgTpFJV",
        "colab_type": "code",
        "colab": {}
      },
      "source": [
        "#adm = Adam(0.001)\n",
        "rmsprop = RMSprop(0.001)\n",
        "model.compile(loss='sparse_categorical_crossentropy', optimizer=rmsprop, metrics=['accuracy'])"
      ],
      "execution_count": 0,
      "outputs": []
    },
    {
      "cell_type": "code",
      "metadata": {
        "id": "7xqA4b8QPAhO",
        "colab_type": "code",
        "outputId": "831e8d56-2779-4f54-9372-e26d218b3fb2",
        "colab": {
          "base_uri": "https://localhost:8080/",
          "height": 1000
        }
      },
      "source": [
        "history = model.fit(X_train, y_train, epochs=30, validation_data=(X_test, y_test), verbose=1, shuffle=True)"
      ],
      "execution_count": 49,
      "outputs": [
        {
          "output_type": "stream",
          "text": [
            "Epoch 1/30\n",
            "67/67 [==============================] - 39s 575ms/step - loss: 9.3980 - accuracy: 0.6423 - val_loss: 5.7881 - val_accuracy: 0.6170\n",
            "Epoch 2/30\n",
            "67/67 [==============================] - 38s 572ms/step - loss: 2.3353 - accuracy: 0.8509 - val_loss: 6.4325 - val_accuracy: 0.5957\n",
            "Epoch 3/30\n",
            "67/67 [==============================] - 38s 571ms/step - loss: 0.7074 - accuracy: 0.9273 - val_loss: 6.8048 - val_accuracy: 0.6596\n",
            "Epoch 4/30\n",
            "67/67 [==============================] - 38s 572ms/step - loss: 0.7974 - accuracy: 0.9405 - val_loss: 4.6248 - val_accuracy: 0.7872\n",
            "Epoch 5/30\n",
            "67/67 [==============================] - 38s 573ms/step - loss: 0.3290 - accuracy: 0.9686 - val_loss: 8.9291 - val_accuracy: 0.7660\n",
            "Epoch 6/30\n",
            "67/67 [==============================] - 38s 569ms/step - loss: 0.3471 - accuracy: 0.9756 - val_loss: 8.2997 - val_accuracy: 0.7872\n",
            "Epoch 7/30\n",
            "67/67 [==============================] - 38s 570ms/step - loss: 0.2601 - accuracy: 0.9812 - val_loss: 8.7619 - val_accuracy: 0.8298\n",
            "Epoch 8/30\n",
            "67/67 [==============================] - 38s 568ms/step - loss: 0.2100 - accuracy: 0.9766 - val_loss: 6.2249 - val_accuracy: 0.8298\n",
            "Epoch 9/30\n",
            "67/67 [==============================] - 38s 568ms/step - loss: 0.1287 - accuracy: 0.9869 - val_loss: 9.3758 - val_accuracy: 0.8298\n",
            "Epoch 10/30\n",
            "67/67 [==============================] - 38s 574ms/step - loss: 0.2147 - accuracy: 0.9864 - val_loss: 23.8407 - val_accuracy: 0.5745\n",
            "Epoch 11/30\n",
            "67/67 [==============================] - 38s 567ms/step - loss: 0.0857 - accuracy: 0.9883 - val_loss: 12.5511 - val_accuracy: 0.7234\n",
            "Epoch 12/30\n",
            "67/67 [==============================] - 38s 570ms/step - loss: 0.0428 - accuracy: 0.9939 - val_loss: 11.3311 - val_accuracy: 0.7872\n",
            "Epoch 13/30\n",
            "67/67 [==============================] - 38s 573ms/step - loss: 0.0979 - accuracy: 0.9906 - val_loss: 9.4450 - val_accuracy: 0.7872\n",
            "Epoch 14/30\n",
            "67/67 [==============================] - 42s 624ms/step - loss: 0.0317 - accuracy: 0.9962 - val_loss: 9.1900 - val_accuracy: 0.8085\n",
            "Epoch 15/30\n",
            "67/67 [==============================] - 38s 574ms/step - loss: 0.1360 - accuracy: 0.9883 - val_loss: 7.8326 - val_accuracy: 0.8085\n",
            "Epoch 16/30\n",
            "67/67 [==============================] - 38s 572ms/step - loss: 0.0948 - accuracy: 0.9939 - val_loss: 8.0610 - val_accuracy: 0.8085\n",
            "Epoch 17/30\n",
            "67/67 [==============================] - 38s 571ms/step - loss: 0.0053 - accuracy: 0.9986 - val_loss: 11.2706 - val_accuracy: 0.7447\n",
            "Epoch 18/30\n",
            "67/67 [==============================] - 38s 571ms/step - loss: 0.1164 - accuracy: 0.9887 - val_loss: 9.4061 - val_accuracy: 0.7447\n",
            "Epoch 19/30\n",
            "67/67 [==============================] - 38s 571ms/step - loss: 0.0765 - accuracy: 0.9930 - val_loss: 12.6920 - val_accuracy: 0.7021\n",
            "Epoch 20/30\n",
            "67/67 [==============================] - 38s 570ms/step - loss: 0.0725 - accuracy: 0.9944 - val_loss: 9.9935 - val_accuracy: 0.7660\n",
            "Epoch 21/30\n",
            "67/67 [==============================] - 38s 570ms/step - loss: 0.0488 - accuracy: 0.9939 - val_loss: 8.3582 - val_accuracy: 0.7447\n",
            "Epoch 22/30\n",
            "67/67 [==============================] - 38s 570ms/step - loss: 0.0648 - accuracy: 0.9948 - val_loss: 11.1908 - val_accuracy: 0.7447\n",
            "Epoch 23/30\n",
            "67/67 [==============================] - 38s 575ms/step - loss: 0.0297 - accuracy: 0.9995 - val_loss: 11.1150 - val_accuracy: 0.7447\n",
            "Epoch 24/30\n",
            "67/67 [==============================] - 38s 570ms/step - loss: 5.4031e-07 - accuracy: 1.0000 - val_loss: 10.5376 - val_accuracy: 0.7872\n",
            "Epoch 25/30\n",
            "67/67 [==============================] - 38s 571ms/step - loss: 7.3503e-08 - accuracy: 1.0000 - val_loss: 9.6018 - val_accuracy: 0.7447\n",
            "Epoch 26/30\n",
            "67/67 [==============================] - 38s 572ms/step - loss: 0.1582 - accuracy: 0.9925 - val_loss: 15.9812 - val_accuracy: 0.7447\n",
            "Epoch 27/30\n",
            "67/67 [==============================] - 38s 571ms/step - loss: 1.9499e-04 - accuracy: 1.0000 - val_loss: 11.2983 - val_accuracy: 0.7660\n",
            "Epoch 28/30\n",
            "67/67 [==============================] - 38s 572ms/step - loss: 0.0914 - accuracy: 0.9920 - val_loss: 14.8232 - val_accuracy: 0.8085\n",
            "Epoch 29/30\n",
            "67/67 [==============================] - 38s 573ms/step - loss: 0.0324 - accuracy: 0.9977 - val_loss: 12.8902 - val_accuracy: 0.7660\n",
            "Epoch 30/30\n",
            "67/67 [==============================] - 38s 570ms/step - loss: 0.0310 - accuracy: 0.9972 - val_loss: 14.1416 - val_accuracy: 0.7872\n"
          ],
          "name": "stdout"
        }
      ]
    },
    {
      "cell_type": "code",
      "metadata": {
        "id": "dPbmqYmePrk3",
        "colab_type": "code",
        "colab": {
          "base_uri": "https://localhost:8080/",
          "height": 295
        },
        "outputId": "dd448c51-541c-49c8-8677-b5cd631e6a81"
      },
      "source": [
        "# Plot training & validation accuracy values\n",
        "plt.plot(history.history['accuracy'])\n",
        "plt.plot(history.history['val_accuracy'])\n",
        "plt.title('Model accuracy')\n",
        "plt.ylabel('Accuracy')\n",
        "plt.xlabel('Epoch')\n",
        "plt.ylim(0, 1)\n",
        "plt.legend(['Train', 'Test'], loc='upper left')\n",
        "plt.show()"
      ],
      "execution_count": 51,
      "outputs": [
        {
          "output_type": "display_data",
          "data": {
            "image/png": "[encoded data removed]",
            "text/plain": [
              "<Figure size 432x288 with 1 Axes>"
            ]
          },
          "metadata": {
            "tags": [],
            "needs_background": "light"
          }
        }
      ]
    },
    {
      "cell_type": "code",
      "metadata": {
        "id": "iWp4_bgTLnj-",
        "colab_type": "code",
        "colab": {}
      },
      "source": [
        "## compute accupacy for each class\n",
        "def compute_accuracy_class(X, y):\n",
        "  '''\n",
        "  Compute accuracy of a class data generator\n",
        "  return:\n",
        "  acc_class -> array of accuracy per class\n",
        "  acc -> total accuracy\n",
        "  '''\n",
        "  pred = model.predict(X)\n",
        "  acc_class, nb_class = np.zeros(4), np.zeros(4)\n",
        "  acc, n = 0, 0\n",
        "\n",
        "  for idx, elm in enumerate(pred):\n",
        "    label_pred = np.argmax(elm)\n",
        "    label_true = int(y[idx])\n",
        "    nb_class[label_true] += 1\n",
        "    if (label_pred == label_true):\n",
        "      acc += 1\n",
        "      acc_class[label_true] += 1\n",
        "    n += 1\n",
        "  return acc_class / nb_class, acc / n"
      ],
      "execution_count": 0,
      "outputs": []
    },
    {
      "cell_type": "code",
      "metadata": {
        "id": "rh4AU7A6jBqA",
        "colab_type": "code",
        "colab": {}
      },
      "source": [
        "acc_class, acc = compute_accuracy_class(X_test, y_test)"
      ],
      "execution_count": 0,
      "outputs": []
    },
    {
      "cell_type": "code",
      "metadata": {
        "id": "vtVvrazRjF5Z",
        "colab_type": "code",
        "colab": {
          "base_uri": "https://localhost:8080/",
          "height": 52
        },
        "outputId": "e7ff55b2-4071-43e8-95fb-257f3a7e66cc"
      },
      "source": [
        "print(\"Total Accuracy {}\".format(acc))\n",
        "print(\"Classes Accuracy {}\".format(acc_class))"
      ],
      "execution_count": 54,
      "outputs": [
        {
          "output_type": "stream",
          "text": [
            "Total Accuracy 0.7872340425531915\n",
            "Classes Accuracy [0.28571429 0.7        1.         0.8       ]\n"
          ],
          "name": "stdout"
        }
      ]
    },
    {
      "cell_type": "code",
      "metadata": {
        "id": "iIb2zaSfjHw3",
        "colab_type": "code",
        "colab": {}
      },
      "source": [
        ""
      ],
      "execution_count": 0,
      "outputs": []
    }
  ]
}