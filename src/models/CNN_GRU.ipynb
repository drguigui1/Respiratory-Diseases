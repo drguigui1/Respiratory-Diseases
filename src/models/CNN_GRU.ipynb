{
  "nbformat": 4,
  "nbformat_minor": 0,
  "metadata": {
    "colab": {
      "name": "CNN_GRU",
      "provenance": []
    },
    "kernelspec": {
      "name": "python3",
      "display_name": "Python 3"
    }
  },
  "cells": [
    {
      "cell_type": "code",
      "metadata": {
        "id": "QnMyGaqOM_5h",
        "colab_type": "code",
        "colab": {}
      },
      "source": [
        "from google.colab import drive\n",
        "drive.mount('/content/drive')"
      ],
      "execution_count": 0,
      "outputs": []
    },
    {
      "cell_type": "code",
      "metadata": {
        "id": "oP3MEXv6NNKY",
        "colab_type": "code",
        "colab": {}
      },
      "source": [
        "import pandas as pd\n",
        "import numpy as np\n",
        "import matplotlib.pyplot as plt\n",
        "import math\n",
        "import cv2\n",
        "\n",
        "from tensorflow.keras.models import Sequential, Model\n",
        "from tensorflow.keras.layers import Dense, Dropout, BatchNormalization, Input, Conv2D, MaxPool2D, Reshape, Flatten, UpSampling2D, LSTM, GRU\n",
        "from tensorflow.keras.utils import Sequence\n",
        "from tensorflow.keras.optimizers import Adam, Adagrad, RMSprop\n",
        "import tensorflow.keras.backend as K"
      ],
      "execution_count": 0,
      "outputs": []
    },
    {
      "cell_type": "code",
      "metadata": {
        "id": "g0Ge-J1Pl80M",
        "colab_type": "code",
        "colab": {}
      },
      "source": [
        "train_data_path='/content/drive/My Drive/respiratory-dataset/train/data'\n",
        "train_labels_path='/content/drive/My Drive/respiratory-dataset/train/labels'\n",
        "test_data_path='/content/drive/My Drive/respiratory-dataset/test/data'\n",
        "test_labels_path='/content/drive/My Drive/respiratory-dataset/test/labels'"
      ],
      "execution_count": 0,
      "outputs": []
    },
    {
      "cell_type": "code",
      "metadata": {
        "id": "v8nEect5mATe",
        "colab_type": "code",
        "colab": {}
      },
      "source": [
        "def get_data(path):\n",
        "  print(path)\n",
        "  f = open(path, \"r\")\n",
        "  l = f.readlines()\n",
        "  n_mfcc = 30\n",
        "  nb_cols = 28\n",
        "  nb_rows = 860 ## most common audio length\n",
        "  X = np.zeros((len(l), nb_rows, nb_cols))\n",
        "  for idx, elm in enumerate(l):\n",
        "    elm = elm.split('\\n')[0]\n",
        "    vec_str = elm.split(',')\n",
        "\n",
        "    m = len(vec_str)\n",
        "    vec = np.zeros(m)\n",
        "    for i in range(m):\n",
        "      vec[i] = float(vec_str[i])\n",
        "    tmp = np.reshape(vec, (int(m / n_mfcc), n_mfcc))\n",
        "    X[idx] = cv2.resize(tmp, (nb_cols, nb_rows), interpolation=cv2.INTER_AREA)\n",
        "    if (idx % 100 == 0):\n",
        "      print(\"Data nb {}\".format(idx))\n",
        "  f.close()\n",
        "  return X\n",
        "\n",
        "def get_labels(path):\n",
        "  print(path)\n",
        "  f = open(path, \"r\")\n",
        "  s = f.read()\n",
        "  s = s.split('\\n')[0]\n",
        "  labels_str = s.split(',')\n",
        "  y = np.zeros(len(labels_str))\n",
        "  for idx, lab in enumerate(labels_str):\n",
        "    y[idx] = float(lab)\n",
        "    if (idx % 100 == 0):\n",
        "      print(\"Label nb {}\".format(idx))\n",
        "  return y"
      ],
      "execution_count": 0,
      "outputs": []
    },
    {
      "cell_type": "code",
      "metadata": {
        "id": "XoPuLcmGUPIq",
        "colab_type": "code",
        "colab": {
          "base_uri": "https://localhost:8080/",
          "height": 885
        },
        "outputId": "d40b951f-2469-4fb6-aad3-689afbabf973"
      },
      "source": [
        "X_train = get_data(train_data_path)\n",
        "y_train = get_labels(train_labels_path)\n",
        "X_test = get_data(test_data_path)\n",
        "y_test = get_labels(test_labels_path)"
      ],
      "execution_count": 5,
      "outputs": [
        {
          "output_type": "stream",
          "text": [
            "/content/drive/My Drive/respiratory-dataset/train/data\n",
            "Data nb 0\n",
            "Data nb 100\n",
            "Data nb 200\n",
            "Data nb 300\n",
            "Data nb 400\n",
            "Data nb 500\n",
            "Data nb 600\n",
            "Data nb 700\n",
            "Data nb 800\n",
            "Data nb 900\n",
            "Data nb 1000\n",
            "Data nb 1100\n",
            "Data nb 1200\n",
            "Data nb 1300\n",
            "Data nb 1400\n",
            "Data nb 1500\n",
            "Data nb 1600\n",
            "Data nb 1700\n",
            "Data nb 1800\n",
            "Data nb 1900\n",
            "Data nb 2000\n",
            "Data nb 2100\n",
            "/content/drive/My Drive/respiratory-dataset/train/labels\n",
            "Label nb 0\n",
            "Label nb 100\n",
            "Label nb 200\n",
            "Label nb 300\n",
            "Label nb 400\n",
            "Label nb 500\n",
            "Label nb 600\n",
            "Label nb 700\n",
            "Label nb 800\n",
            "Label nb 900\n",
            "Label nb 1000\n",
            "Label nb 1100\n",
            "Label nb 1200\n",
            "Label nb 1300\n",
            "Label nb 1400\n",
            "Label nb 1500\n",
            "Label nb 1600\n",
            "Label nb 1700\n",
            "Label nb 1800\n",
            "Label nb 1900\n",
            "Label nb 2000\n",
            "Label nb 2100\n",
            "/content/drive/My Drive/respiratory-dataset/test/data\n",
            "Data nb 0\n",
            "/content/drive/My Drive/respiratory-dataset/test/labels\n",
            "Label nb 0\n"
          ],
          "name": "stdout"
        }
      ]
    },
    {
      "cell_type": "code",
      "metadata": {
        "id": "FTtq7FoymGoA",
        "colab_type": "code",
        "colab": {
          "base_uri": "https://localhost:8080/",
          "height": 86
        },
        "outputId": "0df2a016-e0fa-48ba-9bb8-e3c2c4c52815"
      },
      "source": [
        "X_train = np.reshape(X_train, (X_train.shape[0], X_train.shape[1], X_train.shape[2], 1))\n",
        "X_test = np.reshape(X_test, (X_test.shape[0], X_test.shape[1], X_test.shape[2], 1))\n",
        "print(\"Training data shape {}\".format(X_train.shape))\n",
        "print(\"Training label shape {}\".format(y_train.shape))\n",
        "print(\"Testing data shape {}\".format(X_train.shape))\n",
        "print(\"Testing label shape {}\".format(y_test.shape))"
      ],
      "execution_count": 6,
      "outputs": [
        {
          "output_type": "stream",
          "text": [
            "Training data shape (2133, 860, 28, 1)\n",
            "Training label shape (2133,)\n",
            "Testing data shape (2133, 860, 28, 1)\n",
            "Testing label shape (47,)\n"
          ],
          "name": "stdout"
        }
      ]
    },
    {
      "cell_type": "code",
      "metadata": {
        "id": "8VJ8PAxnmJDY",
        "colab_type": "code",
        "colab": {
          "base_uri": "https://localhost:8080/",
          "height": 573
        },
        "outputId": "b72b763f-9311-4ab6-deda-e843cdc357f2"
      },
      "source": [
        "### CNN-LSTM model\n",
        "in_shape = (860, 28, 1)\n",
        "inpt = Input(shape=in_shape)\n",
        "\n",
        "cnn = Conv2D(32, (3, 3), activation='relu') (inpt)\n",
        "cnn = BatchNormalization() (cnn)\n",
        "cnn = MaxPool2D((2, 2)) (cnn)\n",
        "\n",
        "cnn = Conv2D(64, (3, 3), activation='relu') (cnn)\n",
        "cnn = BatchNormalization() (cnn)\n",
        "cnn = MaxPool2D((2, 2)) (cnn)\n",
        "\n",
        "trans = Flatten() (cnn)\n",
        "trans = Dense(500, activation='relu') (trans)\n",
        "trans = Reshape((1, 500)) (trans)\n",
        "\n",
        "gru = GRU(32) (trans)\n",
        "out = Dense(4, activation='softmax') (gru)\n",
        "model = Model(inpt, out)\n",
        "model.summary()"
      ],
      "execution_count": 7,
      "outputs": [
        {
          "output_type": "stream",
          "text": [
            "Model: \"model\"\n",
            "_________________________________________________________________\n",
            "Layer (type)                 Output Shape              Param #   \n",
            "=================================================================\n",
            "input_1 (InputLayer)         [(None, 860, 28, 1)]      0         \n",
            "_________________________________________________________________\n",
            "conv2d (Conv2D)              (None, 858, 26, 32)       320       \n",
            "_________________________________________________________________\n",
            "batch_normalization (BatchNo (None, 858, 26, 32)       128       \n",
            "_________________________________________________________________\n",
            "max_pooling2d (MaxPooling2D) (None, 429, 13, 32)       0         \n",
            "_________________________________________________________________\n",
            "conv2d_1 (Conv2D)            (None, 427, 11, 64)       18496     \n",
            "_________________________________________________________________\n",
            "batch_normalization_1 (Batch (None, 427, 11, 64)       256       \n",
            "_________________________________________________________________\n",
            "max_pooling2d_1 (MaxPooling2 (None, 213, 5, 64)        0         \n",
            "_________________________________________________________________\n",
            "flatten (Flatten)            (None, 68160)             0         \n",
            "_________________________________________________________________\n",
            "dense (Dense)                (None, 500)               34080500  \n",
            "_________________________________________________________________\n",
            "reshape (Reshape)            (None, 1, 500)            0         \n",
            "_________________________________________________________________\n",
            "gru (GRU)                    (None, 32)                51264     \n",
            "_________________________________________________________________\n",
            "dense_1 (Dense)              (None, 4)                 132       \n",
            "=================================================================\n",
            "Total params: 34,151,096\n",
            "Trainable params: 34,150,904\n",
            "Non-trainable params: 192\n",
            "_________________________________________________________________\n"
          ],
          "name": "stdout"
        }
      ]
    },
    {
      "cell_type": "code",
      "metadata": {
        "id": "BGKK_tfDmnjJ",
        "colab_type": "code",
        "colab": {}
      },
      "source": [
        "#adm = Adam(0.001)\n",
        "rmsprop = RMSprop(0.001)\n",
        "model.compile(loss='sparse_categorical_crossentropy', optimizer=rmsprop, metrics=['accuracy'])"
      ],
      "execution_count": 0,
      "outputs": []
    },
    {
      "cell_type": "code",
      "metadata": {
        "id": "2amLDKZLmsAm",
        "colab_type": "code",
        "colab": {
          "base_uri": "https://localhost:8080/",
          "height": 1000
        },
        "outputId": "6b8065b3-3b64-477c-81b6-e7428be208b5"
      },
      "source": [
        "history = model.fit(X_train, y_train, epochs=30, validation_data=(X_test, y_test), verbose=1, shuffle=True)"
      ],
      "execution_count": 9,
      "outputs": [
        {
          "output_type": "stream",
          "text": [
            "Epoch 1/30\n",
            "67/67 [==============================] - 92s 1s/step - loss: 1.2357 - accuracy: 0.4960 - val_loss: 1.2731 - val_accuracy: 0.3404\n",
            "Epoch 2/30\n",
            "67/67 [==============================] - 92s 1s/step - loss: 0.9773 - accuracy: 0.5987 - val_loss: 1.2031 - val_accuracy: 0.5106\n",
            "Epoch 3/30\n",
            "67/67 [==============================] - 93s 1s/step - loss: 0.8855 - accuracy: 0.6324 - val_loss: 1.0293 - val_accuracy: 0.6170\n",
            "Epoch 4/30\n",
            "67/67 [==============================] - 92s 1s/step - loss: 0.8415 - accuracy: 0.6484 - val_loss: 1.0680 - val_accuracy: 0.6170\n",
            "Epoch 5/30\n",
            "67/67 [==============================] - 92s 1s/step - loss: 0.7611 - accuracy: 0.6910 - val_loss: 0.8169 - val_accuracy: 0.6809\n",
            "Epoch 6/30\n",
            "67/67 [==============================] - 92s 1s/step - loss: 0.7081 - accuracy: 0.7117 - val_loss: 0.8803 - val_accuracy: 0.6170\n",
            "Epoch 7/30\n",
            "67/67 [==============================] - 92s 1s/step - loss: 0.6913 - accuracy: 0.7239 - val_loss: 0.9740 - val_accuracy: 0.5532\n",
            "Epoch 8/30\n",
            "67/67 [==============================] - 92s 1s/step - loss: 0.7173 - accuracy: 0.7173 - val_loss: 1.1581 - val_accuracy: 0.6383\n",
            "Epoch 9/30\n",
            "67/67 [==============================] - 92s 1s/step - loss: 0.7220 - accuracy: 0.7211 - val_loss: 1.4189 - val_accuracy: 0.5106\n",
            "Epoch 10/30\n",
            "67/67 [==============================] - 95s 1s/step - loss: 0.6284 - accuracy: 0.7403 - val_loss: 0.9055 - val_accuracy: 0.6596\n",
            "Epoch 11/30\n",
            "67/67 [==============================] - 92s 1s/step - loss: 0.6307 - accuracy: 0.7375 - val_loss: 0.8460 - val_accuracy: 0.6809\n",
            "Epoch 12/30\n",
            "67/67 [==============================] - 92s 1s/step - loss: 0.5850 - accuracy: 0.7571 - val_loss: 0.7699 - val_accuracy: 0.6809\n",
            "Epoch 13/30\n",
            "67/67 [==============================] - 92s 1s/step - loss: 0.5524 - accuracy: 0.7722 - val_loss: 1.2607 - val_accuracy: 0.6383\n",
            "Epoch 14/30\n",
            "67/67 [==============================] - 92s 1s/step - loss: 0.5827 - accuracy: 0.7614 - val_loss: 0.7667 - val_accuracy: 0.7021\n",
            "Epoch 15/30\n",
            "67/67 [==============================] - 92s 1s/step - loss: 0.5551 - accuracy: 0.7496 - val_loss: 0.9829 - val_accuracy: 0.7021\n",
            "Epoch 16/30\n",
            "67/67 [==============================] - 93s 1s/step - loss: 0.5488 - accuracy: 0.7431 - val_loss: 0.7831 - val_accuracy: 0.6809\n",
            "Epoch 17/30\n",
            "67/67 [==============================] - 94s 1s/step - loss: 0.5181 - accuracy: 0.7712 - val_loss: 0.5959 - val_accuracy: 0.7447\n",
            "Epoch 18/30\n",
            "67/67 [==============================] - 92s 1s/step - loss: 0.4796 - accuracy: 0.7886 - val_loss: 0.6885 - val_accuracy: 0.7447\n",
            "Epoch 19/30\n",
            "67/67 [==============================] - 93s 1s/step - loss: 0.4807 - accuracy: 0.7932 - val_loss: 0.8694 - val_accuracy: 0.7447\n",
            "Epoch 20/30\n",
            "67/67 [==============================] - 92s 1s/step - loss: 0.5110 - accuracy: 0.7736 - val_loss: 2.3167 - val_accuracy: 0.5532\n",
            "Epoch 21/30\n",
            "67/67 [==============================] - 92s 1s/step - loss: 0.4697 - accuracy: 0.7928 - val_loss: 0.7787 - val_accuracy: 0.7021\n",
            "Epoch 22/30\n",
            "67/67 [==============================] - 92s 1s/step - loss: 0.4693 - accuracy: 0.7909 - val_loss: 1.7708 - val_accuracy: 0.5745\n",
            "Epoch 23/30\n",
            "67/67 [==============================] - 95s 1s/step - loss: 0.4963 - accuracy: 0.7904 - val_loss: 1.0623 - val_accuracy: 0.7447\n",
            "Epoch 24/30\n",
            "67/67 [==============================] - 92s 1s/step - loss: 0.5152 - accuracy: 0.7581 - val_loss: 0.9231 - val_accuracy: 0.6383\n",
            "Epoch 25/30\n",
            "67/67 [==============================] - 91s 1s/step - loss: 0.4514 - accuracy: 0.8092 - val_loss: 0.9704 - val_accuracy: 0.7234\n",
            "Epoch 26/30\n",
            "67/67 [==============================] - 92s 1s/step - loss: 0.4508 - accuracy: 0.8017 - val_loss: 0.8130 - val_accuracy: 0.6596\n",
            "Epoch 27/30\n",
            "67/67 [==============================] - 92s 1s/step - loss: 0.4207 - accuracy: 0.8223 - val_loss: 1.5514 - val_accuracy: 0.6809\n",
            "Epoch 28/30\n",
            "67/67 [==============================] - 91s 1s/step - loss: 0.4303 - accuracy: 0.8172 - val_loss: 0.8613 - val_accuracy: 0.7021\n",
            "Epoch 29/30\n",
            "67/67 [==============================] - 92s 1s/step - loss: 0.3948 - accuracy: 0.8331 - val_loss: 0.5606 - val_accuracy: 0.7660\n",
            "Epoch 30/30\n",
            "67/67 [==============================] - 94s 1s/step - loss: 0.3690 - accuracy: 0.8603 - val_loss: 0.9821 - val_accuracy: 0.8298\n"
          ],
          "name": "stdout"
        }
      ]
    },
    {
      "cell_type": "code",
      "metadata": {
        "id": "LjJ5yLCBmuQM",
        "colab_type": "code",
        "colab": {
          "base_uri": "https://localhost:8080/",
          "height": 295
        },
        "outputId": "bd1bf743-c96f-49df-9c36-7446e5360f8c"
      },
      "source": [
        "# Plot training & validation accuracy values\n",
        "plt.plot(history.history['accuracy'])\n",
        "plt.plot(history.history['val_accuracy'])\n",
        "plt.title('Model accuracy')\n",
        "plt.ylabel('Accuracy')\n",
        "plt.xlabel('Epoch')\n",
        "plt.ylim(0, 1)\n",
        "plt.legend(['Train', 'Test'], loc='upper left')\n",
        "plt.show()"
      ],
      "execution_count": 10,
      "outputs": [
        {
          "output_type": "display_data",
          "data": {
            "image/png": "[encoded data removed]",
            "text/plain": [
              "<Figure size 432x288 with 1 Axes>"
            ]
          },
          "metadata": {
            "tags": [],
            "needs_background": "light"
          }
        }
      ]
    },
    {
      "cell_type": "code",
      "metadata": {
        "id": "1nfIxaw_tfGy",
        "colab_type": "code",
        "colab": {}
      },
      "source": [
        "## compute accupacy for each class\n",
        "def compute_accuracy_class(X, y):\n",
        "  '''\n",
        "  Compute accuracy of a class data generator\n",
        "  return:\n",
        "  acc_class -> array of accuracy per class\n",
        "  acc -> total accuracy\n",
        "  '''\n",
        "  pred = model.predict(X)\n",
        "  acc_class, nb_class = np.zeros(4), np.zeros(4)\n",
        "  acc, n = 0, 0\n",
        "\n",
        "  for idx, elm in enumerate(pred):\n",
        "    label_pred = np.argmax(elm)\n",
        "    label_true = int(y[idx])\n",
        "    nb_class[label_true] += 1\n",
        "    if (label_pred == label_true):\n",
        "      acc += 1\n",
        "      acc_class[label_true] += 1\n",
        "    n += 1\n",
        "  return acc_class / nb_class, acc / n"
      ],
      "execution_count": 0,
      "outputs": []
    },
    {
      "cell_type": "code",
      "metadata": {
        "id": "R54tANobtkek",
        "colab_type": "code",
        "colab": {}
      },
      "source": [
        "acc_class, acc = compute_accuracy_class(X_test, y_test)"
      ],
      "execution_count": 0,
      "outputs": []
    },
    {
      "cell_type": "code",
      "metadata": {
        "id": "066VVonItl1f",
        "colab_type": "code",
        "colab": {
          "base_uri": "https://localhost:8080/",
          "height": 52
        },
        "outputId": "c0316739-673d-4305-d059-50efc18b12c3"
      },
      "source": [
        "print(\"Total Accuracy {}\".format(acc))\n",
        "print(\"Classes Accuracy {}\".format(acc_class))"
      ],
      "execution_count": 13,
      "outputs": [
        {
          "output_type": "stream",
          "text": [
            "Total Accuracy 0.8297872340425532\n",
            "Classes Accuracy [0.28571429 0.7        1.         1.        ]\n"
          ],
          "name": "stdout"
        }
      ]
    },
    {
      "cell_type": "code",
      "metadata": {
        "id": "irf7cscYx4yS",
        "colab_type": "code",
        "colab": {}
      },
      "source": [
        ""
      ],
      "execution_count": 0,
      "outputs": []
    }
  ]
}